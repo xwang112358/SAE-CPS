{
 "cells": [
  {
   "cell_type": "code",
   "execution_count": 2,
   "metadata": {},
   "outputs": [],
   "source": [
    "import pandas as pd \n",
    "from sklearn.preprocessing import MinMaxScaler\n",
    "from sklearn.model_selection import train_test_split\n",
    "from torch.utils.data import TensorDataset\n",
    "import torch\n",
    "from torch.utils.data import DataLoader"
   ]
  },
  {
   "cell_type": "markdown",
   "metadata": {},
   "source": [
    "## Train Data"
   ]
  },
  {
   "cell_type": "code",
   "execution_count": 15,
   "metadata": {},
   "outputs": [],
   "source": [
    "data_path = 'BATADAL_dataset03.csv'\n",
    "data_df = pd.read_csv(data_path, parse_dates = ['DATETIME'], dayfirst=True)"
   ]
  },
  {
   "cell_type": "code",
   "execution_count": 16,
   "metadata": {},
   "outputs": [],
   "source": [
    "dates_train = data_df['DATETIME']\n",
    "sensor_cols = [col for col in data_df.columns if col not in ['DATETIME','ATT_FLAG']]\n",
    "\n",
    "scaler = MinMaxScaler()\n",
    "X = pd.DataFrame(index = data_df.index, columns = sensor_cols, data = scaler.fit_transform(data_df[sensor_cols]))"
   ]
  },
  {
   "cell_type": "code",
   "execution_count": 17,
   "metadata": {},
   "outputs": [],
   "source": [
    "X_train, X_val, _, _ = train_test_split(X,X, test_size=0.2, random_state=42)"
   ]
  },
  {
   "cell_type": "code",
   "execution_count": 18,
   "metadata": {},
   "outputs": [
    {
     "name": "stdout",
     "output_type": "stream",
     "text": [
      "Train dataset size: (7008, 43)\n",
      "Validation dataset size: (1753, 43)\n"
     ]
    }
   ],
   "source": [
    "print(f'Train dataset size: {X_train.values.shape}')\n",
    "print(f'Validation dataset size: {X_val.values.shape}')"
   ]
  },
  {
   "cell_type": "code",
   "execution_count": 29,
   "metadata": {},
   "outputs": [
    {
     "name": "stdout",
     "output_type": "stream",
     "text": [
      "Train dataset size: torch.Size([7008, 43])\n",
      "Validation dataset size: torch.Size([1753, 43])\n"
     ]
    }
   ],
   "source": [
    "\n",
    "train_dataset = TensorDataset(torch.from_numpy(X_train.values).float(), \n",
    "                            torch.from_numpy(X_train.values).float())\n",
    "val_dataset = TensorDataset(torch.from_numpy(X_val.values).float(),\n",
    "                           torch.from_numpy(X_val.values).float())\n",
    "\n",
    "print(f'Train dataset size: {train_dataset.tensors[0].shape}')\n",
    "print(f'Validation dataset size: {val_dataset.tensors[0].shape}')"
   ]
  },
  {
   "cell_type": "code",
   "execution_count": 32,
   "metadata": {},
   "outputs": [],
   "source": [
    "# torch.save(train_dataset.tensors[0], \"BATADAL_train_dataset.pt\")\n",
    "# torch.save(val_dataset.tensors[0], \"BATADAL_val_dataset.pt\")"
   ]
  },
  {
   "cell_type": "code",
   "execution_count": 13,
   "metadata": {},
   "outputs": [
    {
     "name": "stdout",
     "output_type": "stream",
     "text": [
      "Train dataset size: torch.Size([7008, 43])\n",
      "Validation dataset size: torch.Size([1753, 43])\n"
     ]
    }
   ],
   "source": [
    "# data loader\n",
    "train_loader = DataLoader(train_dataset, batch_size=64, shuffle=True)\n",
    "val_loader = DataLoader(val_dataset, batch_size=64, shuffle=False)\n",
    "\n",
    "print(f'Train dataset size: {train_loader.dataset.tensors[0].shape}')\n",
    "print(f'Validation dataset size: {val_loader.dataset.tensors[0].shape}')\n"
   ]
  },
  {
   "cell_type": "markdown",
   "metadata": {},
   "source": [
    "## Test Data"
   ]
  },
  {
   "cell_type": "code",
   "execution_count": 30,
   "metadata": {},
   "outputs": [
    {
     "name": "stdout",
     "output_type": "stream",
     "text": [
      "(4177, 43)\n",
      "(4177,)\n"
     ]
    },
    {
     "name": "stderr",
     "output_type": "stream",
     "text": [
      "/tmp/ipykernel_718517/606237100.py:2: UserWarning: Could not infer format, so each element will be parsed individually, falling back to `dateutil`. To ensure parsing is consistent and as-expected, please specify a format.\n",
      "  test_df = pd.read_csv(test_data_path, parse_dates = ['DATETIME'], dayfirst=True)\n"
     ]
    }
   ],
   "source": [
    "test_data_path = './dataset/BATADAL_dataset04.csv'\n",
    "test_df = pd.read_csv(test_data_path, parse_dates = ['DATETIME'], dayfirst=True)\n",
    "dates_test = test_df['DATETIME']\n",
    "sensor_cols = [col for col in test_df.columns if col not in ['DATETIME','ATT_FLAG']]\n",
    "\n",
    "scaler = MinMaxScaler()\n",
    "X_test = pd.DataFrame(index = test_df.index, columns = sensor_cols, data = scaler.fit_transform(test_df[sensor_cols]))\n",
    "y_test = test_df['ATT_FLAG']\n",
    "y_test = y_test.apply(lambda x: 0 if x == -999 else x)\n",
    "print(X_test.shape)\n",
    "print(y_test.shape)\n",
    "\n",
    "test_dataset = TensorDataset(torch.from_numpy(X_test.values).float(), \n",
    "                            torch.from_numpy(y_test.values).float())\n",
    "\n",
    "torch.save((torch.from_numpy(X_test.values).float(),torch.from_numpy(y_test.values).float()), \"./dataset/BATADAL_test_dataset.pt\")\n"
   ]
  },
  {
   "cell_type": "code",
   "execution_count": 28,
   "metadata": {},
   "outputs": [
    {
     "name": "stdout",
     "output_type": "stream",
     "text": [
      "torch.Size([64, 43])\n",
      "torch.Size([64])\n"
     ]
    }
   ],
   "source": [
    "test_loader = DataLoader(test_dataset, batch_size=64, shuffle=False)\n",
    "\n",
    "for batch_X, batch_y in test_loader:\n",
    "    print(batch_X.shape)\n",
    "    print(batch_y.shape)\n",
    "    break\n"
   ]
  }
 ],
 "metadata": {
  "kernelspec": {
   "display_name": "base",
   "language": "python",
   "name": "python3"
  },
  "language_info": {
   "codemirror_mode": {
    "name": "ipython",
    "version": 3
   },
   "file_extension": ".py",
   "mimetype": "text/x-python",
   "name": "python",
   "nbconvert_exporter": "python",
   "pygments_lexer": "ipython3",
   "version": "3.12.9"
  }
 },
 "nbformat": 4,
 "nbformat_minor": 2
}
