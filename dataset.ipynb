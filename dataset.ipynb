{
 "cells": [
  {
   "cell_type": "code",
   "execution_count": 1,
   "metadata": {},
   "outputs": [],
   "source": [
    "import pandas as pd \n",
    "from sklearn.preprocessing import MinMaxScaler\n",
    "from sklearn.model_selection import train_test_split\n",
    "from torch.utils.data import TensorDataset\n",
    "import torch\n",
    "from torch.utils.data import DataLoader"
   ]
  },
  {
   "cell_type": "markdown",
   "metadata": {},
   "source": [
    "## Train Data"
   ]
  },
  {
   "cell_type": "code",
   "execution_count": 15,
   "metadata": {},
   "outputs": [],
   "source": [
    "data_path = 'BATADAL_dataset03.csv'\n",
    "data_df = pd.read_csv(data_path, parse_dates = ['DATETIME'], dayfirst=True)"
   ]
  },
  {
   "cell_type": "code",
   "execution_count": 16,
   "metadata": {},
   "outputs": [],
   "source": [
    "dates_train = data_df['DATETIME']\n",
    "sensor_cols = [col for col in data_df.columns if col not in ['DATETIME','ATT_FLAG']]\n",
    "\n",
    "scaler = MinMaxScaler()\n",
    "X = pd.DataFrame(index = data_df.index, columns = sensor_cols, data = scaler.fit_transform(data_df[sensor_cols]))"
   ]
  },
  {
   "cell_type": "code",
   "execution_count": 17,
   "metadata": {},
   "outputs": [],
   "source": [
    "X_train, X_val, _, _ = train_test_split(X,X, test_size=0.2, random_state=42)"
   ]
  },
  {
   "cell_type": "code",
   "execution_count": 18,
   "metadata": {},
   "outputs": [
    {
     "name": "stdout",
     "output_type": "stream",
     "text": [
      "Train dataset size: (7008, 43)\n",
      "Validation dataset size: (1753, 43)\n"
     ]
    }
   ],
   "source": [
    "print(f'Train dataset size: {X_train.values.shape}')\n",
    "print(f'Validation dataset size: {X_val.values.shape}')"
   ]
  },
  {
   "cell_type": "code",
   "execution_count": 29,
   "metadata": {},
   "outputs": [
    {
     "name": "stdout",
     "output_type": "stream",
     "text": [
      "Train dataset size: torch.Size([7008, 43])\n",
      "Validation dataset size: torch.Size([1753, 43])\n"
     ]
    }
   ],
   "source": [
    "\n",
    "train_dataset = TensorDataset(torch.from_numpy(X_train.values).float(), \n",
    "                            torch.from_numpy(X_train.values).float())\n",
    "val_dataset = TensorDataset(torch.from_numpy(X_val.values).float(),\n",
    "                           torch.from_numpy(X_val.values).float())\n",
    "\n",
    "print(f'Train dataset size: {train_dataset.tensors[0].shape}')\n",
    "print(f'Validation dataset size: {val_dataset.tensors[0].shape}')"
   ]
  },
  {
   "cell_type": "code",
   "execution_count": 32,
   "metadata": {},
   "outputs": [],
   "source": [
    "torch.save(train_dataset.tensors[0], \"BATADAL_train_dataset.pt\")\n",
    "torch.save(val_dataset.tensors[0], \"BATADAL_val_dataset.pt\")"
   ]
  },
  {
   "cell_type": "code",
   "execution_count": 13,
   "metadata": {},
   "outputs": [
    {
     "name": "stdout",
     "output_type": "stream",
     "text": [
      "Train dataset size: torch.Size([7008, 43])\n",
      "Validation dataset size: torch.Size([1753, 43])\n"
     ]
    }
   ],
   "source": [
    "# data loader\n",
    "train_loader = DataLoader(train_dataset, batch_size=64, shuffle=True)\n",
    "val_loader = DataLoader(val_dataset, batch_size=64, shuffle=False)\n",
    "\n",
    "print(f'Train dataset size: {train_loader.dataset.tensors[0].shape}')\n",
    "print(f'Validation dataset size: {val_loader.dataset.tensors[0].shape}')\n"
   ]
  },
  {
   "cell_type": "markdown",
   "metadata": {},
   "source": [
    "## Test Data"
   ]
  },
  {
   "cell_type": "code",
   "execution_count": 22,
   "metadata": {},
   "outputs": [],
   "source": [
    "test_data_path = 'BATADAL_dataset04.csv'\n",
    "test_df = pd.read_csv(test_data_path, parse_dates = ['DATETIME'], dayfirst=True)\n",
    "dates_test = test_df['DATETIME']\n",
    "sensor_cols = [col for col in test_df.columns if col not in ['DATETIME','ATT_FLAG']]\n",
    "\n",
    "scaler = MinMaxScaler()\n",
    "X_test = pd.DataFrame(index = test_df.index, columns = sensor_cols, data = scaler.fit_transform(test_df[sensor_cols]))\n",
    "\n",
    "# test_dataset = TensorDataset(torch.from_numpy(X_test.values).float(), \n",
    "#                             torch.from_numpy(y_test.values).float())\n",
    "\n"
   ]
  },
  {
   "cell_type": "code",
   "execution_count": 25,
   "metadata": {},
   "outputs": [
    {
     "name": "stdout",
     "output_type": "stream",
     "text": [
      "Index(['DATETIME', ' L_T1', ' L_T2', ' L_T3', ' L_T4', ' L_T5', ' L_T6',\n",
      "       ' L_T7', ' F_PU1', ' S_PU1', ' F_PU2', ' S_PU2', ' F_PU3', ' S_PU3',\n",
      "       ' F_PU4', ' S_PU4', ' F_PU5', ' S_PU5', ' F_PU6', ' S_PU6', ' F_PU7',\n",
      "       ' S_PU7', ' F_PU8', ' S_PU8', ' F_PU9', ' S_PU9', ' F_PU10', ' S_PU10',\n",
      "       ' F_PU11', ' S_PU11', ' F_V2', ' S_V2', ' P_J280', ' P_J269', ' P_J300',\n",
      "       ' P_J256', ' P_J289', ' P_J415', ' P_J302', ' P_J306', ' P_J307',\n",
      "       ' P_J317', ' P_J14', ' P_J422', 'ATT_FLAG'],\n",
      "      dtype='object')\n",
      "0      -999\n",
      "1      -999\n",
      "2      -999\n",
      "3      -999\n",
      "4      -999\n",
      "       ... \n",
      "4172   -999\n",
      "4173   -999\n",
      "4174   -999\n",
      "4175   -999\n",
      "4176   -999\n",
      "Name: ATT_FLAG, Length: 4177, dtype: int64\n",
      "\n",
      "Unique values in ATT_FLAG:\n",
      "-999    3958\n",
      " 1       219\n",
      "Name: ATT_FLAG, dtype: int64\n"
     ]
    }
   ],
   "source": [
    "print(test_df.columns)\n",
    "print(test_df['ATT_FLAG'])\n",
    "print(\"\\nUnique values in ATT_FLAG:\")\n",
    "print(test_df['ATT_FLAG'].value_counts())\n"
   ]
  }
 ],
 "metadata": {
  "kernelspec": {
   "display_name": "scaffaug",
   "language": "python",
   "name": "python3"
  },
  "language_info": {
   "codemirror_mode": {
    "name": "ipython",
    "version": 3
   },
   "file_extension": ".py",
   "mimetype": "text/x-python",
   "name": "python",
   "nbconvert_exporter": "python",
   "pygments_lexer": "ipython3",
   "version": "3.9.21"
  }
 },
 "nbformat": 4,
 "nbformat_minor": 2
}
